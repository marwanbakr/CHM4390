{
 "cells": [
  {
   "cell_type": "markdown",
   "metadata": {},
   "source": [
    "# CHM4390A/CHM8309A\n",
    "## Lecture 1. Basic Python\n",
    "\n",
    "Part of this lecture is inspired to the \"Python Scripting for Computational Molecular Science\" workshop offered by the Molecular Science Software Institute (https://education.molssi.org, license: https://github.com/MolSSI-Education/python_scripting_cms/blob/gh-pages/LICENSE.md). \n",
    "\n",
    "### Lecture objectives\n",
    "1. Learn how to use variables, lists and loops in Python\n",
    "2. Learn how to read, analyze, and write files\n",
    "3. Learn how to use NumPy for numerical data and files containing numerical data"
   ]
  },
  {
   "cell_type": "markdown",
   "metadata": {},
   "source": [
    "### Required libraries\n",
    "- NumPy"
   ]
  },
  {
   "cell_type": "markdown",
   "metadata": {},
   "source": [
    "### Variables"
   ]
  },
  {
   "cell_type": "code",
   "execution_count": 1,
   "metadata": {},
   "outputs": [
    {
     "data": {
      "text/plain": [
       "3"
      ]
     },
     "execution_count": 1,
     "metadata": {},
     "output_type": "execute_result"
    }
   ],
   "source": [
    "# Use python as a general calculator\n",
    "1 + 2"
   ]
  },
  {
   "cell_type": "code",
   "execution_count": 2,
   "metadata": {},
   "outputs": [
    {
     "data": {
      "text/plain": [
       "0.5"
      ]
     },
     "execution_count": 2,
     "metadata": {},
     "output_type": "execute_result"
    }
   ],
   "source": [
    "# Multiplication/division\n",
    "1*2"
   ]
  },
  {
   "cell_type": "code",
   "execution_count": null,
   "metadata": {},
   "outputs": [],
   "source": [
    "1/2"
   ]
  },
  {
   "cell_type": "code",
   "execution_count": 3,
   "metadata": {},
   "outputs": [
    {
     "data": {
      "text/plain": [
       "8"
      ]
     },
     "execution_count": 3,
     "metadata": {},
     "output_type": "execute_result"
    }
   ],
   "source": [
    "# Power\n",
    "2**3"
   ]
  },
  {
   "cell_type": "code",
   "execution_count": 4,
   "metadata": {},
   "outputs": [],
   "source": [
    "# Define variables\n",
    "r_0 = 0.152  # nm\n",
    "k = 317      # kcal/mol nm^2\n",
    "r = 0.2      # nm"
   ]
  },
  {
   "cell_type": "code",
   "execution_count": 5,
   "metadata": {},
   "outputs": [],
   "source": [
    "# Vairables based on other types of data can also be defined, such as strings and lists\n",
    "x = 'compchem'\n",
    "y = [1, 2, 3]"
   ]
  },
  {
   "cell_type": "code",
   "execution_count": 6,
   "metadata": {},
   "outputs": [
    {
     "data": {
      "text/plain": [
       "float"
      ]
     },
     "execution_count": 6,
     "metadata": {},
     "output_type": "execute_result"
    }
   ],
   "source": [
    "# Check type of data\n",
    "type(r)"
   ]
  },
  {
   "cell_type": "code",
   "execution_count": 7,
   "metadata": {},
   "outputs": [
    {
     "data": {
      "text/plain": [
       "int"
      ]
     },
     "execution_count": 7,
     "metadata": {},
     "output_type": "execute_result"
    }
   ],
   "source": [
    "# Casting into other formats\n",
    "r_int = int(r)    # int = integer\n",
    "type(r_int)"
   ]
  },
  {
   "cell_type": "code",
   "execution_count": 3,
   "metadata": {},
   "outputs": [],
   "source": [
    "# Assign multiple variables at once\n",
    "r_0, k, r = 0.152, 317, 0.2"
   ]
  },
  {
   "cell_type": "code",
   "execution_count": 4,
   "metadata": {
    "scrolled": true
   },
   "outputs": [
    {
     "name": "stdout",
     "output_type": "stream",
     "text": [
      "0.152\n",
      "0.304\n"
     ]
    }
   ],
   "source": [
    "# Print variables\n",
    "print(r_0)\n",
    "print(r_0*2)"
   ]
  },
  {
   "cell_type": "code",
   "execution_count": 5,
   "metadata": {},
   "outputs": [
    {
     "ename": "NameError",
     "evalue": "name 'r_i' is not defined",
     "output_type": "error",
     "traceback": [
      "\u001b[0;31m---------------------------------------------------------------------------\u001b[0m",
      "\u001b[0;31mNameError\u001b[0m                                 Traceback (most recent call last)",
      "Cell \u001b[0;32mIn[5], line 3\u001b[0m\n\u001b[1;32m      1\u001b[0m \u001b[38;5;66;03m# Errors in python\u001b[39;00m\n\u001b[0;32m----> 3\u001b[0m \u001b[38;5;28mprint\u001b[39m(\u001b[43mr_i\u001b[49m)\n",
      "\u001b[0;31mNameError\u001b[0m: name 'r_i' is not defined"
     ]
    }
   ],
   "source": [
    "# Errors in python\n",
    "\n",
    "print(r_i)"
   ]
  },
  {
   "cell_type": "markdown",
   "metadata": {},
   "source": [
    "### Lists"
   ]
  },
  {
   "cell_type": "code",
   "execution_count": 6,
   "metadata": {},
   "outputs": [
    {
     "name": "stdout",
     "output_type": "stream",
     "text": [
      "The length of the list is 17\n"
     ]
    }
   ],
   "source": [
    "# Define lists of variables\n",
    "r_l = [0.145, 0.146, 0.147, 0.148, 0.149, 0.150, 0.151, 0.152, 0.153,\n",
    "     0.154, 0.155, 0.156, 0.157, 0.158, 0.159, 0.160, 0.161]\n",
    "\n",
    "# Check the length of lists\n",
    "length_r_l = len(r_l)\n",
    "print(\"The length of the list is\", length_r_l)      # Use comma to print multiple things in the same line"
   ]
  },
  {
   "cell_type": "code",
   "execution_count": 7,
   "metadata": {},
   "outputs": [
    {
     "name": "stdout",
     "output_type": "stream",
     "text": [
      "0.147\n",
      "0.161\n"
     ]
    }
   ],
   "source": [
    "# Access list elements (they start from 0)\n",
    "print(r_l[2])\n",
    "print(r_l[-1])    # Access last element"
   ]
  },
  {
   "cell_type": "code",
   "execution_count": 8,
   "metadata": {},
   "outputs": [
    {
     "name": "stdout",
     "output_type": "stream",
     "text": [
      "[0.145, 0.146, 0.147, 0.148, 0.149, 0.15, 0.151, 0.152, 0.153, 0.154, 0.155, 0.156, 0.157, 0.158, 0.159, 0.16, 0.161]\n"
     ]
    }
   ],
   "source": [
    "print(r_l)"
   ]
  },
  {
   "cell_type": "code",
   "execution_count": 14,
   "metadata": {},
   "outputs": [
    {
     "name": "stdout",
     "output_type": "stream",
     "text": [
      "[0.145, 0.146, 0.147, 0.148, 0.149, 0.15, 0.151, 0.152, 0.153, 0.154, 0.155, 0.156, 0.157, 0.158, 0.159, 0.16, 0.161]\n"
     ]
    }
   ],
   "source": [
    "# Sort lists in-place (mutates indexes)\n",
    "r_l.sort()\n",
    "print(r_l)"
   ]
  },
  {
   "cell_type": "code",
   "execution_count": 15,
   "metadata": {},
   "outputs": [
    {
     "name": "stdout",
     "output_type": "stream",
     "text": [
      "[0.161, 0.16, 0.159, 0.158, 0.157, 0.156, 0.155, 0.154, 0.153, 0.152, 0.151, 0.15, 0.149, 0.148, 0.147, 0.146, 0.145]\n"
     ]
    }
   ],
   "source": [
    "# Sort lists into a new list\n",
    "r_l_s = sorted(r_l, reverse=True)   # Here, sort by reverse order\n",
    "print(r_l_s)"
   ]
  },
  {
   "cell_type": "code",
   "execution_count": 16,
   "metadata": {},
   "outputs": [
    {
     "name": "stdout",
     "output_type": "stream",
     "text": [
      "[0.145, 0.146, 0.147, 0.148, 0.149]\n"
     ]
    }
   ],
   "source": [
    "# Taking slices (subsets) of lists\n",
    "r_l_slice = r_l[0:5]    # slice = list[start:end], end not included\n",
    "print(r_l_slice)"
   ]
  },
  {
   "cell_type": "code",
   "execution_count": 17,
   "metadata": {},
   "outputs": [
    {
     "name": "stdout",
     "output_type": "stream",
     "text": [
      "[0.145, 0.146, 0.147, 0.148, 0.149]\n"
     ]
    }
   ],
   "source": [
    "# Start automatically from 0 if not specified\n",
    "r_l_slice = r_l[:5]\n",
    "print(r_l_slice)"
   ]
  },
  {
   "cell_type": "code",
   "execution_count": 18,
   "metadata": {},
   "outputs": [
    {
     "name": "stdout",
     "output_type": "stream",
     "text": [
      "This is lecture 1\n"
     ]
    }
   ],
   "source": [
    "# Lists of strings can also be joined together into a string (if all elements are strings)\n",
    "l = ['This', 'is', 'lecture', '1']\n",
    "snt = ' '.join(l)\n",
    "print(snt)"
   ]
  },
  {
   "cell_type": "code",
   "execution_count": 19,
   "metadata": {},
   "outputs": [
    {
     "name": "stdout",
     "output_type": "stream",
     "text": [
      "[1, 2, 3, 4]\n"
     ]
    }
   ],
   "source": [
    "# Append an element to a list in-place\n",
    "lst_a = [1, 2, 3]\n",
    "lst_a.append(4)\n",
    "\n",
    "print(lst_a)"
   ]
  },
  {
   "cell_type": "code",
   "execution_count": 20,
   "metadata": {},
   "outputs": [
    {
     "name": "stdout",
     "output_type": "stream",
     "text": [
      "[1, 2, 3, 4, 5, 6]\n"
     ]
    }
   ],
   "source": [
    "# Append a list to a list in-place\n",
    "lst_a.extend([5, 6])\n",
    "print(lst_a)"
   ]
  },
  {
   "cell_type": "code",
   "execution_count": null,
   "metadata": {},
   "outputs": [],
   "source": [
    "# List of lists\n",
    "list_l = []\n",
    "list_l.append(['ml', 1])\n",
    "list_l.append([10.1, 4])\n",
    "print(list_l)"
   ]
  },
  {
   "cell_type": "code",
   "execution_count": 21,
   "metadata": {},
   "outputs": [
    {
     "name": "stdout",
     "output_type": "stream",
     "text": [
      "[1, 2, 3, 4, 5, 6]\n"
     ]
    }
   ],
   "source": [
    "# Concatenate lists\n",
    "lst_a = [1, 2, 3]\n",
    "lst_b = lst_a + [4, 5, 6]\n",
    "\n",
    "print(lst_b)"
   ]
  },
  {
   "cell_type": "markdown",
   "metadata": {},
   "source": [
    "### Loops"
   ]
  },
  {
   "cell_type": "code",
   "execution_count": 23,
   "metadata": {},
   "outputs": [
    {
     "name": "stdout",
     "output_type": "stream",
     "text": [
      "0.145\n",
      "1.45\n",
      "0.146\n",
      "1.46\n",
      "0.147\n",
      "1.47\n",
      "0.148\n",
      "1.48\n",
      "0.149\n",
      "1.49\n",
      "0.15\n",
      "1.5\n",
      "0.151\n",
      "1.51\n",
      "0.152\n",
      "1.52\n",
      "0.153\n",
      "1.53\n",
      "0.154\n",
      "1.54\n",
      "0.155\n",
      "1.55\n",
      "0.156\n",
      "1.56\n",
      "0.157\n",
      "1.57\n",
      "0.158\n",
      "1.58\n",
      "0.159\n",
      "1.59\n",
      "0.16\n",
      "1.6\n",
      "0.161\n",
      "1.61\n"
     ]
    }
   ],
   "source": [
    "### Iterating on lists with 'for' loops\n",
    "for i in r_l:\n",
    "    print(i)               # When iterating through lists, i will be equal to the actual element value, NOT to its index\n",
    "    val_ang = i*10\n",
    "    print(val_ang)"
   ]
  },
  {
   "cell_type": "code",
   "execution_count": 24,
   "metadata": {},
   "outputs": [
    {
     "name": "stdout",
     "output_type": "stream",
     "text": [
      "[1.45, 1.46, 1.47, 1.48, 1.49, 1.5, 1.51, 1.52, 1.53, 1.54, 1.55, 1.56, 1.57, 1.58, 1.59, 1.6, 1.61]\n"
     ]
    }
   ],
   "source": [
    "# Generate a new list\n",
    "r_l_ang = []                 # Initialize new empty list\n",
    "\n",
    "for i in r_l:\n",
    "    val_ang = i*10           # Value in Angstrom = nm*10\n",
    "    r_l_ang.append(val_ang)\n",
    "    \n",
    "print(r_l_ang)"
   ]
  },
  {
   "cell_type": "code",
   "execution_count": 26,
   "metadata": {
    "scrolled": true
   },
   "outputs": [
    {
     "name": "stdout",
     "output_type": "stream",
     "text": [
      "[0.0, 0.0, 0.0, 0.0, 0.0, 0.0, 0.0, 15.2, 1.53, 1.53, 1.54, 1.54, 1.55, 1.55, 1.56, 1.56, 1.57, 1.57, 1.58, 1.58, 1.59, 1.59, 1.6, 1.6, 1.61, 1.61]\n"
     ]
    }
   ],
   "source": [
    "# Use 'if/else' condition loops\n",
    "r_l_ang_1 = [] \n",
    "\n",
    "for i in r_l:\n",
    "    if i > r_0:                  # Convert to A and add to the list if > r_0\n",
    "        val_ang = i*10             \n",
    "    elif i == r_0:\n",
    "        val_ang = i*100          # Multiply by 100 and add to the list if = r_0\n",
    "    else:\n",
    "        val_ang = 0              # Set to 0 otherwise\n",
    "    r_l_ang_1.append(val_ang)    # Append the value to the new list\n",
    "\n",
    "print(r_l_ang_1)"
   ]
  },
  {
   "cell_type": "code",
   "execution_count": 15,
   "metadata": {},
   "outputs": [
    {
     "name": "stdout",
     "output_type": "stream",
     "text": [
      "[1.53, 1.54, 1.55, 1.56, 1.57, 1.58, 1.59, 1.6, 1.61]\n"
     ]
    }
   ],
   "source": [
    "# Important: instructions follow loop hierarchy and indent (4 spaces per loop)\n",
    "r_l_ang_1 = [] \n",
    "\n",
    "for i in r_l:\n",
    "    if i > r_0:              \n",
    "        val_ang = i*10             \n",
    "        r_l_ang_1.append(val_ang)  # Follows if loop: append ONLY if i > r_0\n",
    "\n",
    "print(r_l_ang_1)                   # This is much shorter than before because append follows if loop (indentation)\n"
   ]
  },
  {
   "cell_type": "markdown",
   "metadata": {},
   "source": [
    "### Exercise 1 (30 minutes)\n",
    "Consider a system of two carbon atoms covalenty bound to each other, described by a simple harmonic potential\n",
    "\n",
    "$$V_{ij}(r) = \\frac{1}{2}K_{ij}(r - r0_{ij})^2$$\n",
    "\n",
    "The force constant, $K_{ij}$, and the distance at which $V_{ij}(r)$ is 0, $r0_{ij}$, are system-specific constant values. For our system, consider:\n",
    "\n",
    "$r0_{ij}$ = 0.152 nm\n",
    "\n",
    "$K_{ij}$ = 317 kcal/mol nm^2\n",
    "\n",
    "Write a python code to calculate $V_{ij}(r)$ in kJ/mol for:\n",
    "\n",
    "1. $r$ = 0.2 nm\n",
    "\n",
    "2. $r_l$ = [0.145, 0.146, 0.147, 0.148, 0.149, 0.150, 0.151, 0.152, 0.153, 0.154, 0.155, 0.156, 0.157, 0.158, 0.159, 0.160, 0.161]"
   ]
  },
  {
   "cell_type": "code",
   "execution_count": 23,
   "metadata": {},
   "outputs": [],
   "source": [
    "# variables\n",
    "r_0 = 0.152  # nm\n",
    "k = 317      # kcal/mol nm^2\n",
    "r = 0.2      # nm\n",
    "c_f = 4.184  # conversion factor\n",
    "\n",
    "# Define lists of variables\n",
    "r_l = [0.145, 0.146, 0.147, 0.148, 0.149, 0.150, 0.151, 0.152, 0.153,\n",
    "     0.154, 0.155, 0.156, 0.157, 0.158, 0.159, 0.160, 0.161]"
   ]
  },
  {
   "cell_type": "markdown",
   "metadata": {},
   "source": [
    "### Solution 1"
   ]
  },
  {
   "cell_type": "code",
   "execution_count": 24,
   "metadata": {},
   "outputs": [],
   "source": [
    "# Calculate potential energy between two C atoms using VARIABLES\n",
    "V = 0.5*k*(r - r_0)**2  # harmonic potential\n",
    "V_kJ = V*c_f        # in kJ/mol"
   ]
  },
  {
   "cell_type": "code",
   "execution_count": 25,
   "metadata": {},
   "outputs": [
    {
     "name": "stdout",
     "output_type": "stream",
     "text": [
      "The potential energy is 0.37 kcal/mol, equal to 1.53 kJ/mol\n"
     ]
    }
   ],
   "source": [
    "# Print results\n",
    "print(f\"The potential energy is {V:.2f} kcal/mol, equal to {V_kJ:.2f} kJ/mol\")      # :.xf specifies how many decimals (x) to show for a float variable in a string"
   ]
  },
  {
   "cell_type": "code",
   "execution_count": 27,
   "metadata": {},
   "outputs": [
    {
     "name": "stdout",
     "output_type": "stream",
     "text": [
      "[0.0078, 0.0057, 0.004, 0.0025, 0.0014, 0.0006, 0.0002, 0.0, 0.0002, 0.0006, 0.0014, 0.0025, 0.004, 0.0057, 0.0078, 0.0101, 0.0128]\n",
      "[0.0325, 0.0239, 0.0166, 0.0106, 0.006, 0.0027, 0.0007, 0.0, 0.0007, 0.0027, 0.006, 0.0106, 0.0166, 0.0239, 0.0325, 0.0424, 0.0537]\n"
     ]
    }
   ],
   "source": [
    "# Calculate potential energy between two C atoms for all the distances listed in r_l\n",
    "V_list = []\n",
    "V_kJ_list = []\n",
    "\n",
    "for i in r_l:\n",
    "    v = 0.5*k*(i - r_0)**2\n",
    "    v_kJ = v*c_f\n",
    "    V_list.append(round(v, 4))         # Use round function to modify the precision of float numbers (without using strings)\n",
    "    V_kJ_list.append(round(v_kJ, 4)) \n",
    "\n",
    "print(V_list)\n",
    "print(V_kJ_list)"
   ]
  },
  {
   "cell_type": "code",
   "execution_count": 31,
   "metadata": {},
   "outputs": [
    {
     "name": "stdout",
     "output_type": "stream",
     "text": [
      "[0.0078, 0.0057, 0.004, 0.0025, 0.0014, 0.0006, 0.0002, 0.0, 0.0002, 0.0006, 0.0014, 0.0025, 0.004, 0.0057, 0.0078, 0.0101, 0.0128]\n",
      "[0.0326, 0.0238, 0.0167, 0.0105, 0.0059, 0.0025, 0.0008, 0.0, 0.0008, 0.0025, 0.0059, 0.0105, 0.0167, 0.0238, 0.0326, 0.0423, 0.0536]\n"
     ]
    }
   ],
   "source": [
    "# Using list comprehension\n",
    "V_list = [round(0.5*k*(x - r_0)**2, 4) for x in r_l]\n",
    "V_kJ_list = [round(x*c_f, 4) for x in V_list]     \n",
    "\n",
    "print(V_list)\n",
    "print(V_kJ_list)      # Can you think of a reason why V_kJ_list is slightly different than it was before?"
   ]
  }
 ],
 "metadata": {
  "kernelspec": {
   "display_name": "Python 3 (ipykernel)",
   "language": "python",
   "name": "python3"
  },
  "language_info": {
   "codemirror_mode": {
    "name": "ipython",
    "version": 3
   },
   "file_extension": ".py",
   "mimetype": "text/x-python",
   "name": "python",
   "nbconvert_exporter": "python",
   "pygments_lexer": "ipython3",
   "version": "3.9.15"
  }
 },
 "nbformat": 4,
 "nbformat_minor": 4
}

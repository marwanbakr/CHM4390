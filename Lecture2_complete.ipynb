{
 "cells": [
  {
   "cell_type": "markdown",
   "metadata": {},
   "source": [
    "# CHM4390A/CHM8309A\n",
    "## Lecture 2. Data analysis with Python\n",
    "\n",
    "Part of this lecture is inspired to the \"Python Scripting for Computational Molecular Science\" and \"Data Analysis with Python\" workshop offered by the Molecular Science Software Institute (https://education.molssi.org, license: https://github.com/MolSSI-Education/python_scripting_cms/blob/gh-pages/LICENSE.md). \n",
    "\n",
    "### Lecture objectives\n",
    "1. Learn how to work with text files\n",
    "1. Learn how to use NumPy for numerical data\n",
    "1. Learn how to use functions in Python\n",
    "2. Learn how to use Pandas with tabular data\n",
    "3. Learn how to plot data"
   ]
  },
  {
   "cell_type": "markdown",
   "metadata": {},
   "source": [
    "### Required libraries\n",
    "- NumPy\n",
    "- Pandas\n",
    "- Matplotlib"
   ]
  },
  {
   "cell_type": "markdown",
   "metadata": {},
   "source": [
    "### Working with files\n",
    "The MMGBSA_data.txt file in the data2 folder contains various results from the application of the Molecular Mechanics Generalized Born/Surface Area (MMGBSA) model to a ligand-receptor molecular dynamics simulation. We want to extract meaningful information from this file, without going through it manually."
   ]
  },
  {
   "cell_type": "code",
   "execution_count": 1,
   "metadata": {},
   "outputs": [],
   "source": [
    "# The following two commands can be used to list the content of the current directory and see the path of it, respectively"
   ]
  },
  {
   "cell_type": "code",
   "execution_count": 2,
   "metadata": {},
   "outputs": [
    {
     "name": "stdout",
     "output_type": "stream",
     "text": [
      "MMGBSA_data.txt       periodic_table.csv\r\n",
      "distances_aa.csv      periodic_table_2.csv\r\n"
     ]
    }
   ],
   "source": [
    "ls data2"
   ]
  },
  {
   "cell_type": "code",
   "execution_count": 3,
   "metadata": {},
   "outputs": [
    {
     "data": {
      "text/plain": [
       "'/Users/Checco/Desktop'"
      ]
     },
     "execution_count": 3,
     "metadata": {},
     "output_type": "execute_result"
    }
   ],
   "source": [
    "pwd"
   ]
  },
  {
   "cell_type": "code",
   "execution_count": 4,
   "metadata": {},
   "outputs": [
    {
     "name": "stdout",
     "output_type": "stream",
     "text": [
      "data2/MMGBSA_data.txt\n"
     ]
    }
   ],
   "source": [
    "# To import libraries or modules in python, use import followed by the name of the library\n",
    "# Here we want to import the operating system (os) library that will allow us to access files\n",
    "\n",
    "import os\n",
    "\n",
    "file = os.path.join('data2', 'MMGBSA_data.txt')     # This ensures that will work both on Windows and Unix systems\n",
    "                                                    # library.module.function structure; remember to specify the full\n",
    "                                                    # path if you want to access a folder outside the current directory\n",
    "print(file)\n"
   ]
  },
  {
   "cell_type": "code",
   "execution_count": 5,
   "metadata": {},
   "outputs": [],
   "source": [
    "gb_file = open(file, 'r')                 \n",
    "gb_data = gb_file.readlines()            # Save the rows of the file as elements of a list\n",
    "gb_file.close()"
   ]
  },
  {
   "cell_type": "code",
   "execution_count": 6,
   "metadata": {},
   "outputs": [
    {
     "name": "stdout",
     "output_type": "stream",
     "text": [
      "dG Average: -91.4524\n",
      "\n"
     ]
    }
   ],
   "source": [
    "# Let's print the line that contains the dG, which starts with 'dG Average', i.e. the average free energy of binding over the simulation\n",
    "for line in gb_data:\n",
    "    if 'dG Average' in line:\n",
    "        print(line)"
   ]
  },
  {
   "cell_type": "code",
   "execution_count": 7,
   "metadata": {},
   "outputs": [
    {
     "name": "stdout",
     "output_type": "stream",
     "text": [
      "205 dG Average: -91.4524\n",
      "\n"
     ]
    }
   ],
   "source": [
    "# Enumerate to assign the index number of the list to each line\n",
    "for index,line in enumerate(gb_data):\n",
    "    if 'dG Average' in line:\n",
    "        print(index, line)"
   ]
  },
  {
   "cell_type": "code",
   "execution_count": 8,
   "metadata": {},
   "outputs": [
    {
     "name": "stdout",
     "output_type": "stream",
     "text": [
      "['dG', 'Average:', '-91.4524']\n",
      "-91.4524\n"
     ]
    }
   ],
   "source": [
    "# Split lines\n",
    "\n",
    "for line in gb_data:\n",
    "    if 'dG Average' in line:\n",
    "        line_avg = line\n",
    "\n",
    "splitted_line_energy = line_avg.split()     # Split create a list, based on the separator listed between brackets (space if not defined)\n",
    "print(splitted_line_energy)\n",
    "\n",
    "energy = splitted_line_energy[2]\n",
    "print(energy)\n",
    "\n",
    "type(energy)\n",
    "energy = float(energy)                      # Cast to float value from string"
   ]
  },
  {
   "cell_type": "code",
   "execution_count": 9,
   "metadata": {},
   "outputs": [
    {
     "name": "stdout",
     "output_type": "stream",
     "text": [
      "distance is 0.145\n",
      "\n",
      "distance is 0.146\n",
      "\n",
      "distance is 0.147\n",
      "\n",
      "distance is 0.148\n",
      "\n",
      "distance is 0.149\n",
      "\n",
      "distance is 0.15\n",
      "\n",
      "distance is 0.151\n",
      "\n",
      "distance is 0.152\n",
      "\n",
      "distance is 0.153\n",
      "\n",
      "distance is 0.154\n",
      "\n",
      "distance is 0.155\n",
      "\n",
      "distance is 0.156\n",
      "\n",
      "distance is 0.157\n",
      "\n",
      "distance is 0.158\n",
      "\n",
      "distance is 0.159\n",
      "\n",
      "distance is 0.16\n",
      "\n",
      "distance is 0.161\n",
      "\n"
     ]
    }
   ],
   "source": [
    "# Write data from a list into a file; here, let's use r_l\n",
    "out_f = open('r_l_out.txt', 'w')                # 'w' write, 'r' read, 'a' append, 'x' create\n",
    "r_l = [0.145, 0.146, 0.147, 0.148, 0.149, 0.150, 0.151, 0.152, 0.153,\n",
    "     0.154, 0.155, 0.156, 0.157, 0.158, 0.159, 0.160, 0.161]\n",
    "\n",
    "for r in r_l:\n",
    "    out_f.write(F\"distance is {r}\\n\")          # \\n is the newline character\n",
    "    \n",
    "out_f.close()                                  # Close the file after finishing writing\n",
    "\n",
    "out_f_r = open('r_l_out.txt', 'r')\n",
    "for r_lines in out_f_r:\n",
    "    print(r_lines)"
   ]
  },
  {
   "cell_type": "markdown",
   "metadata": {},
   "source": [
    "### Exercise 1 (15 minutes)\n",
    "1. The 'dg Average' value is calculated as an average over all the molecular dynamics snapshots processed with the Molecular Mechanics/Generalized Born Surface Area (MMGBSA) method. Everytime a new snapshot is read by the MMGBSA program, a new line starting with 'Reading' is written to the txt file. Print out how many snapshots have been processed.\n",
    "2. Two dg Average values are calculated and reported in the file (depending on the inclusion of a strain energy term, where NS indicates No Strain energy). The lines containing those values contain the string 'Average'. Print the two energy values and their line number."
   ]
  },
  {
   "cell_type": "markdown",
   "metadata": {},
   "source": [
    "### Solution"
   ]
  },
  {
   "cell_type": "code",
   "execution_count": 10,
   "metadata": {},
   "outputs": [
    {
     "name": "stdout",
     "output_type": "stream",
     "text": [
      "205 -91.4524\n",
      "209 -110.2463\n",
      "201\n"
     ]
    }
   ],
   "source": [
    "c=0                                   # Initialize counter\n",
    "\n",
    "for idx,line in enumerate(gb_data):\n",
    "    if 'Reading' in line:\n",
    "        c += 1                        # Increase counter by 1 at each iteration\n",
    "    elif 'Average' in line:\n",
    "        print(idx, line.split()[2])\n",
    "        \n",
    "print(c)  "
   ]
  },
  {
   "cell_type": "markdown",
   "metadata": {},
   "source": [
    "### Working with numerical data: NumPy"
   ]
  },
  {
   "cell_type": "code",
   "execution_count": 11,
   "metadata": {},
   "outputs": [
    {
     "name": "stdout",
     "output_type": "stream",
     "text": [
      "[ 5  5 12  5]\n",
      "[ 4  6 20  0]\n"
     ]
    }
   ],
   "source": [
    "# Simple operations with numpy arrays\n",
    "import numpy as np              # AS defines how the library will be called through the script\n",
    "a = np.array([1, 2, 10, 5])\n",
    "b = np.array([4, 3, 2, 0])\n",
    "sm = a + b\n",
    "print(sm)\n",
    "\n",
    "mlp = a*b\n",
    "print(mlp)"
   ]
  },
  {
   "cell_type": "code",
   "execution_count": 12,
   "metadata": {},
   "outputs": [
    {
     "name": "stdout",
     "output_type": "stream",
     "text": [
      "[ 1  2  5 10]\n"
     ]
    }
   ],
   "source": [
    "# Sort\n",
    "a_s = np.sort(a)\n",
    "print(a_s)"
   ]
  },
  {
   "cell_type": "code",
   "execution_count": 13,
   "metadata": {},
   "outputs": [
    {
     "name": "stdout",
     "output_type": "stream",
     "text": [
      "[1, 2, 10, 5, 4, 3, 2, 0]\n"
     ]
    }
   ],
   "source": [
    "# Compare with lists\n",
    "a = [1, 2, 10, 5]\n",
    "b = [4, 3, 2, 0]\n",
    "sm = a + b\n",
    "print(sm)"
   ]
  },
  {
   "cell_type": "code",
   "execution_count": 14,
   "metadata": {},
   "outputs": [
    {
     "name": "stdout",
     "output_type": "stream",
     "text": [
      "[-3 -2 -1  0  1  2]\n"
     ]
    }
   ],
   "source": [
    "# Some useful operations with numpy arrays\n",
    "# arange\n",
    "a = np.arange(-3, +3, 1)\n",
    "print(a)"
   ]
  },
  {
   "cell_type": "code",
   "execution_count": 15,
   "metadata": {},
   "outputs": [
    {
     "name": "stdout",
     "output_type": "stream",
     "text": [
      "[[-3 -2 -1]\n",
      " [ 0  1  2]]\n",
      "[[-3 -2]\n",
      " [-1  0]\n",
      " [ 1  2]]\n"
     ]
    }
   ],
   "source": [
    "# Reshape\n",
    "a_rs = a.reshape(2, 3)\n",
    "a_rs2 = a.reshape(3, 2)\n",
    "print(a_rs)\n",
    "print(a_rs2)"
   ]
  },
  {
   "cell_type": "code",
   "execution_count": 16,
   "metadata": {},
   "outputs": [
    {
     "name": "stdout",
     "output_type": "stream",
     "text": [
      "[[ 1  2  3  4]\n",
      " [ 5  6  7  8]\n",
      " [ 9 10 11 12]]\n",
      "[ 1  2  3  4  5  6  7  8  9 10 11 12]\n"
     ]
    }
   ],
   "source": [
    "# Flattening multidimensional arrays\n",
    "a_mltd = np.array([[1, 2, 3, 4], [5, 6, 7, 8], [9, 10, 11, 12]])\n",
    "a_flt = a_mltd.flatten()\n",
    "print(a_mltd)\n",
    "print(a_flt)"
   ]
  },
  {
   "cell_type": "code",
   "execution_count": 17,
   "metadata": {},
   "outputs": [],
   "source": [
    "# Broadcasting for math operations on arrays of different shape\n",
    "a = np.array([(1, 2, 5, 10), (5, 4, 3, 1)])\n",
    "a = np.array(a)\n",
    "scale = 2\n",
    "scale_vect = np.array([2, 2, 2, 2])"
   ]
  },
  {
   "cell_type": "code",
   "execution_count": 18,
   "metadata": {},
   "outputs": [
    {
     "name": "stdout",
     "output_type": "stream",
     "text": [
      "[[ 1  2  5 10]\n",
      " [ 5  4  3  1]] (2, 4)\n",
      "[2 2 2 2] (4,)\n"
     ]
    }
   ],
   "source": [
    "print(a, a.shape)                      # The shape command gives a the size fo each dimension, starting from the first\n",
    "print(scale_vect, scale_vect.shape)"
   ]
  },
  {
   "cell_type": "code",
   "execution_count": 19,
   "metadata": {},
   "outputs": [
    {
     "name": "stdout",
     "output_type": "stream",
     "text": [
      "[[ 2  4 10 20]\n",
      " [10  8  6  2]]\n"
     ]
    }
   ],
   "source": [
    "a_s = a*scale                   # Broadcasting: \"stretching\" the smaller vector over all elements of the array\n",
    "print(a_s)"
   ]
  },
  {
   "cell_type": "markdown",
   "metadata": {},
   "source": [
    "###### Rules for broadcasting\n",
    "NumPy compares the shapes of the two arrays element-wise. It starts with the trailing (i.e. rightmost) dimensions and works its way left. Two dimensions are compatible if they are equal or one of them is 1. For broadcasting 1-d arrays, the number of elements in the 1-d array must match the number of columns in the multi-dimensional arrays. More details: https://numpy.org/doc/stable/user/basics.broadcasting.html"
   ]
  },
  {
   "cell_type": "code",
   "execution_count": 20,
   "metadata": {},
   "outputs": [
    {
     "name": "stdout",
     "output_type": "stream",
     "text": [
      "[ 1 10  5  3]\n",
      "[[ 1 20 25 30]\n",
      " [ 5 40 15  3]\n",
      " [ 1  0 50 60]]\n",
      "(4,)\n"
     ]
    }
   ],
   "source": [
    "a = np.array([[1, 2, 5, 10], [5, 4, 3, 1], [1, 0, 10, 20]])\n",
    "scale_vect = np.array([1, 10, 5, 3])\n",
    "\n",
    "print(scale_vect)\n",
    "print(a*scale_vect)\n",
    "print(scale_vect.shape)"
   ]
  },
  {
   "cell_type": "code",
   "execution_count": 21,
   "metadata": {},
   "outputs": [
    {
     "name": "stdout",
     "output_type": "stream",
     "text": [
      "[[ 1  6]\n",
      " [15 16]]\n",
      "[[ 7 11]\n",
      " [17 31]]\n"
     ]
    }
   ],
   "source": [
    "# Matrix multiplication\n",
    "a = np.array([[1, 2], [5, 4]])\n",
    "b = np.array([[1, 3], [3, 4]])\n",
    "mlt = a*b                       # This returns element-wise multiplication\n",
    "print(a*b)\n",
    "\n",
    "a_b_mtx = np.matmul(a, b)       # Matrix multiplication\n",
    "print(np.matmul(a, b))"
   ]
  },
  {
   "cell_type": "code",
   "execution_count": 22,
   "metadata": {},
   "outputs": [
    {
     "name": "stdout",
     "output_type": "stream",
     "text": [
      "[10  5]\n",
      "[False False  True  True]\n"
     ]
    }
   ],
   "source": [
    "# Logical operations\n",
    "a = np.array([1, 2, 10, 5])\n",
    "a_m = a[a > 2]\n",
    "\n",
    "print(a_m)\n",
    "print(a > 2)"
   ]
  },
  {
   "cell_type": "code",
   "execution_count": 23,
   "metadata": {},
   "outputs": [
    {
     "data": {
      "text/plain": [
       "array([2. , 3. , 7.5, 3.5])"
      ]
     },
     "execution_count": 23,
     "metadata": {},
     "output_type": "execute_result"
    }
   ],
   "source": [
    "# Axes \n",
    "a = np.array([[1, 2, 10, 5], [3, 4, 5, 2]])\n",
    "np.mean(a, axis=0)     # axis = 0 mean by row, axis =1 mean by column"
   ]
  },
  {
   "cell_type": "markdown",
   "metadata": {},
   "source": [
    "### Functions in Python"
   ]
  },
  {
   "cell_type": "code",
   "execution_count": 24,
   "metadata": {},
   "outputs": [
    {
     "name": "stdout",
     "output_type": "stream",
     "text": [
      "2\n",
      "[2 8]\n",
      "Help on function mult in module __main__:\n",
      "\n",
      "mult(a, b)\n",
      "    Perform multiplication.\n",
      "\n"
     ]
    }
   ],
   "source": [
    "# Functions are useful when we want to reutilize the operation often in our code (by defining once in the script or in a module and importing it)\n",
    "import numpy as np\n",
    "\n",
    "def mult(a, b):\n",
    "    \"\"\"Perform multiplication.\"\"\"        # Help/documentation\n",
    "    m = a*b\n",
    "    return m\n",
    "\n",
    "print(mult(1, 2))\n",
    "print(mult(np.array([1,2]), np.array([2,4])))\n",
    "\n",
    "help(mult)"
   ]
  },
  {
   "cell_type": "markdown",
   "metadata": {},
   "source": [
    "### Pandas"
   ]
  },
  {
   "cell_type": "code",
   "execution_count": 25,
   "metadata": {},
   "outputs": [],
   "source": [
    "import os\n",
    "import pandas as pd"
   ]
  },
  {
   "cell_type": "code",
   "execution_count": 26,
   "metadata": {},
   "outputs": [
    {
     "data": {
      "text/html": [
       "<div>\n",
       "<style scoped>\n",
       "    .dataframe tbody tr th:only-of-type {\n",
       "        vertical-align: middle;\n",
       "    }\n",
       "\n",
       "    .dataframe tbody tr th {\n",
       "        vertical-align: top;\n",
       "    }\n",
       "\n",
       "    .dataframe thead th {\n",
       "        text-align: right;\n",
       "    }\n",
       "</style>\n",
       "<table border=\"1\" class=\"dataframe\">\n",
       "  <thead>\n",
       "    <tr style=\"text-align: right;\">\n",
       "      <th></th>\n",
       "      <th>column1</th>\n",
       "      <th>column2</th>\n",
       "    </tr>\n",
       "  </thead>\n",
       "  <tbody>\n",
       "    <tr>\n",
       "      <th>0</th>\n",
       "      <td>0</td>\n",
       "      <td>1</td>\n",
       "    </tr>\n",
       "    <tr>\n",
       "      <th>1</th>\n",
       "      <td>1</td>\n",
       "      <td>2</td>\n",
       "    </tr>\n",
       "    <tr>\n",
       "      <th>2</th>\n",
       "      <td>2</td>\n",
       "      <td>4</td>\n",
       "    </tr>\n",
       "    <tr>\n",
       "      <th>3</th>\n",
       "      <td>3</td>\n",
       "      <td>10</td>\n",
       "    </tr>\n",
       "    <tr>\n",
       "      <th>4</th>\n",
       "      <td>4</td>\n",
       "      <td>8</td>\n",
       "    </tr>\n",
       "  </tbody>\n",
       "</table>\n",
       "</div>"
      ],
      "text/plain": [
       "  column1  column2\n",
       "0       0        1\n",
       "1       1        2\n",
       "2       2        4\n",
       "3       3       10\n",
       "4       4        8"
      ]
     },
     "execution_count": 26,
     "metadata": {},
     "output_type": "execute_result"
    }
   ],
   "source": [
    "# Create an empty dataframe and add columns from lists or arrays\n",
    "df_test = pd.DataFrame()\n",
    "\n",
    "c1 = [str(i) for i in list(range(5))]\n",
    "c2 = np.array([1,2,4,10,8])\n",
    "df_test['column1'] = c1\n",
    "df_test['column2'] = c2\n",
    "df_test.head()"
   ]
  },
  {
   "cell_type": "code",
   "execution_count": 27,
   "metadata": {},
   "outputs": [
    {
     "name": "stdout",
     "output_type": "stream",
     "text": [
      "<class 'pandas.core.frame.DataFrame'>\n",
      "RangeIndex: 5 entries, 0 to 4\n",
      "Data columns (total 2 columns):\n",
      " #   Column   Non-Null Count  Dtype \n",
      "---  ------   --------------  ----- \n",
      " 0   column1  5 non-null      object\n",
      " 1   column2  5 non-null      int64 \n",
      "dtypes: int64(1), object(1)\n",
      "memory usage: 208.0+ bytes\n"
     ]
    }
   ],
   "source": [
    "# Inspecting the data\n",
    "df_test.info()        # Note that column 1 is an object (string) as we defined it like so"
   ]
  },
  {
   "cell_type": "code",
   "execution_count": 28,
   "metadata": {},
   "outputs": [],
   "source": [
    "# Read CSV files as dataframes with pandas\n",
    "file = os.path.join('data2', 'periodic_table.csv')    # Use sep=';' if necessary, ie if data is separated by ;\n",
    "df = pd.read_csv(file)"
   ]
  }
 ],
 "metadata": {
  "kernelspec": {
   "display_name": "Python 3 (ipykernel)",
   "language": "python",
   "name": "python3"
  },
  "language_info": {
   "codemirror_mode": {
    "name": "ipython",
    "version": 3
   },
   "file_extension": ".py",
   "mimetype": "text/x-python",
   "name": "python",
   "nbconvert_exporter": "python",
   "pygments_lexer": "ipython3",
   "version": "3.9.15"
  }
 },
 "nbformat": 4,
 "nbformat_minor": 4
}
